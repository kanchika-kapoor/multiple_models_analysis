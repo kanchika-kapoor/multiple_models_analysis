{
  "cells": [
    {
      "cell_type": "markdown",
      "metadata": {
        "id": "SeaU76O4oyrQ"
      },
      "source": [
        "Name: Kanchika Sudhirkumar Kapoor\n",
        "\n",
        "email: 10621287@mydbs.ie"
      ]
    },
    {
      "cell_type": "markdown",
      "metadata": {
        "id": "TrcESgyTeVs7"
      },
      "source": [
        "## **Question 3**                                                                                  \n",
        "\n",
        " Use dataset available on http://users.stat.ufl.edu/~winner/data/nfl2008_fga.csv\n",
        "\n",
        "⦁\tUse LDA to classify the dataset into few classes so that at least 90% of information of dataset is explained through new classification. (Hint: model the variable `qtr` to variables `togo`, `kicker`, and `ydline`). How many LDs do you choose? Explain the reason.                                                                                           \n",
        "⦁\tApply PCA, and identify the important principle components involving at least 90% of dataset variation. Explain your decision strategy?  Plot principle components versus their variance.                                    \n",
        "\n"
      ]
    },
    {
      "cell_type": "code",
      "execution_count": 2,
      "metadata": {
        "colab": {
          "base_uri": "https://localhost:8080/"
        },
        "id": "Da6FUz-uegmP",
        "outputId": "d6ba5deb-7cfe-48d2-ce09-5ed4c0fea185"
      },
      "outputs": [
        {
          "name": "stdout",
          "output_type": "stream",
          "text": [
            "--2022-12-24 22:17:36--  http://users.stat.ufl.edu/~winner/data/nfl2008_fga.csv\n",
            "Resolving users.stat.ufl.edu (users.stat.ufl.edu)... 128.227.24.94\n",
            "Connecting to users.stat.ufl.edu (users.stat.ufl.edu)|128.227.24.94|:80... connected.\n",
            "HTTP request sent, awaiting response... 301 Moved Permanently\n",
            "Location: https://users.stat.ufl.edu/~winner/data/nfl2008_fga.csv [following]\n",
            "--2022-12-24 22:17:36--  https://users.stat.ufl.edu/~winner/data/nfl2008_fga.csv\n",
            "Connecting to users.stat.ufl.edu (users.stat.ufl.edu)|128.227.24.94|:443... connected.\n",
            "WARNING: cannot verify users.stat.ufl.edu's certificate, issued by ‘CN=InCommon RSA Server CA,OU=InCommon,O=Internet2,L=Ann Arbor,ST=MI,C=US’:\n",
            "  Unable to locally verify the issuer's authority.\n",
            "HTTP request sent, awaiting response... 200 OK\n",
            "Length: 83329 (81K) [text/csv]\n",
            "Saving to: ‘nfl2008_fga.csv’\n",
            "\n",
            "nfl2008_fga.csv     100%[===================>]  81.38K  --.-KB/s    in 0.03s   \n",
            "\n",
            "2022-12-24 22:17:36 (2.71 MB/s) - ‘nfl2008_fga.csv’ saved [83329/83329]\n",
            "\n"
          ]
        }
      ],
      "source": [
        "!wget http://users.stat.ufl.edu/~winner/data/nfl2008_fga.csv --no-check-certificate"
      ]
    },
    {
      "cell_type": "code",
      "execution_count": 30,
      "metadata": {
        "id": "d60IofdpQ3Ah"
      },
      "outputs": [],
      "source": [
        "# import all modules\n",
        "import pandas as pd\n",
        "import numpy as np\n",
        "import matplotlib.pyplot as plt\n",
        "\n",
        "from sklearn.discriminant_analysis import LinearDiscriminantAnalysis\n",
        "from sklearn.decomposition import PCA"
      ]
    },
    {
      "cell_type": "code",
      "execution_count": 3,
      "metadata": {
        "colab": {
          "base_uri": "https://localhost:8080/"
        },
        "id": "F3J8RVFLdrnK",
        "outputId": "6a597692-2979-4f30-de8e-fecacd6273ba"
      },
      "outputs": [
        {
          "data": {
            "text/plain": [
              "GameDate    0\n",
              "AwayTeam    0\n",
              "HomeTeam    0\n",
              "qtr         0\n",
              "min         0\n",
              "sec         0\n",
              "kickteam    0\n",
              "def         0\n",
              "down        2\n",
              "togo        2\n",
              "kicker      0\n",
              "ydline      0\n",
              "name        0\n",
              "distance    0\n",
              "homekick    0\n",
              "kickdiff    0\n",
              "timerem     0\n",
              "offscore    0\n",
              "defscore    0\n",
              "season      0\n",
              "GOOD        0\n",
              "Missed      0\n",
              "Blocked     0\n",
              "dtype: int64"
            ]
          },
          "execution_count": 3,
          "metadata": {},
          "output_type": "execute_result"
        }
      ],
      "source": [
        "# create dataframe\n",
        "df = pd.read_csv('nfl2008_fga.csv')\n",
        "# check if any columns has null values\n",
        "df.isnull().sum()"
      ]
    },
    {
      "cell_type": "markdown",
      "metadata": {
        "id": "NgH08YrWiok8"
      },
      "source": [
        "`togo` and `down` columns has some null values. we can check the datatype for those columns and decide on droping those rows or replacing with 0"
      ]
    },
    {
      "cell_type": "code",
      "execution_count": 28,
      "metadata": {
        "colab": {
          "base_uri": "https://localhost:8080/",
          "height": 235
        },
        "id": "IKlu_qnJhmWP",
        "outputId": "93b21fc4-015a-46c1-9c73-615dc155bb64"
      },
      "outputs": [
        {
          "data": {
            "text/html": [
              "\n",
              "  <div id=\"df-dae7f5c6-b12e-462d-aa95-2662960e1f5d\">\n",
              "    <div class=\"colab-df-container\">\n",
              "      <div>\n",
              "<style scoped>\n",
              "    .dataframe tbody tr th:only-of-type {\n",
              "        vertical-align: middle;\n",
              "    }\n",
              "\n",
              "    .dataframe tbody tr th {\n",
              "        vertical-align: top;\n",
              "    }\n",
              "\n",
              "    .dataframe thead th {\n",
              "        text-align: right;\n",
              "    }\n",
              "</style>\n",
              "<table border=\"1\" class=\"dataframe\">\n",
              "  <thead>\n",
              "    <tr style=\"text-align: right;\">\n",
              "      <th></th>\n",
              "      <th>GameDate</th>\n",
              "      <th>AwayTeam</th>\n",
              "      <th>HomeTeam</th>\n",
              "      <th>qtr</th>\n",
              "      <th>min</th>\n",
              "      <th>sec</th>\n",
              "      <th>kickteam</th>\n",
              "      <th>def</th>\n",
              "      <th>down</th>\n",
              "      <th>togo</th>\n",
              "      <th>...</th>\n",
              "      <th>distance</th>\n",
              "      <th>homekick</th>\n",
              "      <th>kickdiff</th>\n",
              "      <th>timerem</th>\n",
              "      <th>offscore</th>\n",
              "      <th>defscore</th>\n",
              "      <th>season</th>\n",
              "      <th>GOOD</th>\n",
              "      <th>Missed</th>\n",
              "      <th>Blocked</th>\n",
              "    </tr>\n",
              "  </thead>\n",
              "  <tbody>\n",
              "    <tr>\n",
              "      <th>0</th>\n",
              "      <td>20081130</td>\n",
              "      <td>IND</td>\n",
              "      <td>CLE</td>\n",
              "      <td>1</td>\n",
              "      <td>47</td>\n",
              "      <td>2</td>\n",
              "      <td>IND</td>\n",
              "      <td>CLE</td>\n",
              "      <td>4.0</td>\n",
              "      <td>11.0</td>\n",
              "      <td>...</td>\n",
              "      <td>30</td>\n",
              "      <td>0</td>\n",
              "      <td>-3</td>\n",
              "      <td>2822</td>\n",
              "      <td>0</td>\n",
              "      <td>3</td>\n",
              "      <td>2008</td>\n",
              "      <td>1</td>\n",
              "      <td>0</td>\n",
              "      <td>0</td>\n",
              "    </tr>\n",
              "    <tr>\n",
              "      <th>1</th>\n",
              "      <td>20081005</td>\n",
              "      <td>IND</td>\n",
              "      <td>HOU</td>\n",
              "      <td>1</td>\n",
              "      <td>54</td>\n",
              "      <td>47</td>\n",
              "      <td>IND</td>\n",
              "      <td>HOU</td>\n",
              "      <td>4.0</td>\n",
              "      <td>3.0</td>\n",
              "      <td>...</td>\n",
              "      <td>46</td>\n",
              "      <td>0</td>\n",
              "      <td>0</td>\n",
              "      <td>3287</td>\n",
              "      <td>0</td>\n",
              "      <td>0</td>\n",
              "      <td>2008</td>\n",
              "      <td>1</td>\n",
              "      <td>0</td>\n",
              "      <td>0</td>\n",
              "    </tr>\n",
              "    <tr>\n",
              "      <th>2</th>\n",
              "      <td>20081228</td>\n",
              "      <td>TEN</td>\n",
              "      <td>IND</td>\n",
              "      <td>1</td>\n",
              "      <td>45</td>\n",
              "      <td>20</td>\n",
              "      <td>IND</td>\n",
              "      <td>TEN</td>\n",
              "      <td>4.0</td>\n",
              "      <td>3.0</td>\n",
              "      <td>...</td>\n",
              "      <td>28</td>\n",
              "      <td>1</td>\n",
              "      <td>7</td>\n",
              "      <td>2720</td>\n",
              "      <td>7</td>\n",
              "      <td>0</td>\n",
              "      <td>2008</td>\n",
              "      <td>1</td>\n",
              "      <td>0</td>\n",
              "      <td>0</td>\n",
              "    </tr>\n",
              "    <tr>\n",
              "      <th>3</th>\n",
              "      <td>20081012</td>\n",
              "      <td>BAL</td>\n",
              "      <td>IND</td>\n",
              "      <td>1</td>\n",
              "      <td>45</td>\n",
              "      <td>42</td>\n",
              "      <td>IND</td>\n",
              "      <td>BAL</td>\n",
              "      <td>4.0</td>\n",
              "      <td>1.0</td>\n",
              "      <td>...</td>\n",
              "      <td>37</td>\n",
              "      <td>1</td>\n",
              "      <td>14</td>\n",
              "      <td>2742</td>\n",
              "      <td>14</td>\n",
              "      <td>0</td>\n",
              "      <td>2008</td>\n",
              "      <td>1</td>\n",
              "      <td>0</td>\n",
              "      <td>0</td>\n",
              "    </tr>\n",
              "    <tr>\n",
              "      <th>4</th>\n",
              "      <td>20080907</td>\n",
              "      <td>CHI</td>\n",
              "      <td>IND</td>\n",
              "      <td>1</td>\n",
              "      <td>50</td>\n",
              "      <td>56</td>\n",
              "      <td>IND</td>\n",
              "      <td>CHI</td>\n",
              "      <td>4.0</td>\n",
              "      <td>21.0</td>\n",
              "      <td>...</td>\n",
              "      <td>39</td>\n",
              "      <td>1</td>\n",
              "      <td>0</td>\n",
              "      <td>3056</td>\n",
              "      <td>0</td>\n",
              "      <td>0</td>\n",
              "      <td>2008</td>\n",
              "      <td>1</td>\n",
              "      <td>0</td>\n",
              "      <td>0</td>\n",
              "    </tr>\n",
              "  </tbody>\n",
              "</table>\n",
              "<p>5 rows × 23 columns</p>\n",
              "</div>\n",
              "      <button class=\"colab-df-convert\" onclick=\"convertToInteractive('df-dae7f5c6-b12e-462d-aa95-2662960e1f5d')\"\n",
              "              title=\"Convert this dataframe to an interactive table.\"\n",
              "              style=\"display:none;\">\n",
              "        \n",
              "  <svg xmlns=\"http://www.w3.org/2000/svg\" height=\"24px\"viewBox=\"0 0 24 24\"\n",
              "       width=\"24px\">\n",
              "    <path d=\"M0 0h24v24H0V0z\" fill=\"none\"/>\n",
              "    <path d=\"M18.56 5.44l.94 2.06.94-2.06 2.06-.94-2.06-.94-.94-2.06-.94 2.06-2.06.94zm-11 1L8.5 8.5l.94-2.06 2.06-.94-2.06-.94L8.5 2.5l-.94 2.06-2.06.94zm10 10l.94 2.06.94-2.06 2.06-.94-2.06-.94-.94-2.06-.94 2.06-2.06.94z\"/><path d=\"M17.41 7.96l-1.37-1.37c-.4-.4-.92-.59-1.43-.59-.52 0-1.04.2-1.43.59L10.3 9.45l-7.72 7.72c-.78.78-.78 2.05 0 2.83L4 21.41c.39.39.9.59 1.41.59.51 0 1.02-.2 1.41-.59l7.78-7.78 2.81-2.81c.8-.78.8-2.07 0-2.86zM5.41 20L4 18.59l7.72-7.72 1.47 1.35L5.41 20z\"/>\n",
              "  </svg>\n",
              "      </button>\n",
              "      \n",
              "  <style>\n",
              "    .colab-df-container {\n",
              "      display:flex;\n",
              "      flex-wrap:wrap;\n",
              "      gap: 12px;\n",
              "    }\n",
              "\n",
              "    .colab-df-convert {\n",
              "      background-color: #E8F0FE;\n",
              "      border: none;\n",
              "      border-radius: 50%;\n",
              "      cursor: pointer;\n",
              "      display: none;\n",
              "      fill: #1967D2;\n",
              "      height: 32px;\n",
              "      padding: 0 0 0 0;\n",
              "      width: 32px;\n",
              "    }\n",
              "\n",
              "    .colab-df-convert:hover {\n",
              "      background-color: #E2EBFA;\n",
              "      box-shadow: 0px 1px 2px rgba(60, 64, 67, 0.3), 0px 1px 3px 1px rgba(60, 64, 67, 0.15);\n",
              "      fill: #174EA6;\n",
              "    }\n",
              "\n",
              "    [theme=dark] .colab-df-convert {\n",
              "      background-color: #3B4455;\n",
              "      fill: #D2E3FC;\n",
              "    }\n",
              "\n",
              "    [theme=dark] .colab-df-convert:hover {\n",
              "      background-color: #434B5C;\n",
              "      box-shadow: 0px 1px 3px 1px rgba(0, 0, 0, 0.15);\n",
              "      filter: drop-shadow(0px 1px 2px rgba(0, 0, 0, 0.3));\n",
              "      fill: #FFFFFF;\n",
              "    }\n",
              "  </style>\n",
              "\n",
              "      <script>\n",
              "        const buttonEl =\n",
              "          document.querySelector('#df-dae7f5c6-b12e-462d-aa95-2662960e1f5d button.colab-df-convert');\n",
              "        buttonEl.style.display =\n",
              "          google.colab.kernel.accessAllowed ? 'block' : 'none';\n",
              "\n",
              "        async function convertToInteractive(key) {\n",
              "          const element = document.querySelector('#df-dae7f5c6-b12e-462d-aa95-2662960e1f5d');\n",
              "          const dataTable =\n",
              "            await google.colab.kernel.invokeFunction('convertToInteractive',\n",
              "                                                     [key], {});\n",
              "          if (!dataTable) return;\n",
              "\n",
              "          const docLinkHtml = 'Like what you see? Visit the ' +\n",
              "            '<a target=\"_blank\" href=https://colab.research.google.com/notebooks/data_table.ipynb>data table notebook</a>'\n",
              "            + ' to learn more about interactive tables.';\n",
              "          element.innerHTML = '';\n",
              "          dataTable['output_type'] = 'display_data';\n",
              "          await google.colab.output.renderOutput(dataTable, element);\n",
              "          const docLink = document.createElement('div');\n",
              "          docLink.innerHTML = docLinkHtml;\n",
              "          element.appendChild(docLink);\n",
              "        }\n",
              "      </script>\n",
              "    </div>\n",
              "  </div>\n",
              "  "
            ],
            "text/plain": [
              "   GameDate AwayTeam HomeTeam  qtr  min  sec kickteam  def  down  togo  ...  \\\n",
              "0  20081130      IND      CLE    1   47    2      IND  CLE   4.0  11.0  ...   \n",
              "1  20081005      IND      HOU    1   54   47      IND  HOU   4.0   3.0  ...   \n",
              "2  20081228      TEN      IND    1   45   20      IND  TEN   4.0   3.0  ...   \n",
              "3  20081012      BAL      IND    1   45   42      IND  BAL   4.0   1.0  ...   \n",
              "4  20080907      CHI      IND    1   50   56      IND  CHI   4.0  21.0  ...   \n",
              "\n",
              "   distance  homekick kickdiff  timerem  offscore  defscore  season  GOOD  \\\n",
              "0        30         0       -3     2822         0         3    2008     1   \n",
              "1        46         0        0     3287         0         0    2008     1   \n",
              "2        28         1        7     2720         7         0    2008     1   \n",
              "3        37         1       14     2742        14         0    2008     1   \n",
              "4        39         1        0     3056         0         0    2008     1   \n",
              "\n",
              "   Missed  Blocked  \n",
              "0       0        0  \n",
              "1       0        0  \n",
              "2       0        0  \n",
              "3       0        0  \n",
              "4       0        0  \n",
              "\n",
              "[5 rows x 23 columns]"
            ]
          },
          "execution_count": 28,
          "metadata": {},
          "output_type": "execute_result"
        }
      ],
      "source": [
        "df.head()"
      ]
    },
    {
      "cell_type": "markdown",
      "metadata": {
        "id": "LeEG0MewjIm-"
      },
      "source": [
        "both `togo` and `down` columns are numerical. we can replace null values with 0"
      ]
    },
    {
      "cell_type": "code",
      "execution_count": 5,
      "metadata": {
        "colab": {
          "base_uri": "https://localhost:8080/"
        },
        "id": "EisaX2pVih_d",
        "outputId": "5c9f3525-7d60-4393-b153-b36b3337cde3"
      },
      "outputs": [
        {
          "data": {
            "text/plain": [
              "GameDate    0\n",
              "AwayTeam    0\n",
              "HomeTeam    0\n",
              "qtr         0\n",
              "min         0\n",
              "sec         0\n",
              "kickteam    0\n",
              "def         0\n",
              "down        0\n",
              "togo        0\n",
              "kicker      0\n",
              "ydline      0\n",
              "name        0\n",
              "distance    0\n",
              "homekick    0\n",
              "kickdiff    0\n",
              "timerem     0\n",
              "offscore    0\n",
              "defscore    0\n",
              "season      0\n",
              "GOOD        0\n",
              "Missed      0\n",
              "Blocked     0\n",
              "dtype: int64"
            ]
          },
          "execution_count": 5,
          "metadata": {},
          "output_type": "execute_result"
        }
      ],
      "source": [
        "df = df.fillna(0)\n",
        "df.isnull().sum()"
      ]
    },
    {
      "attachments": {},
      "cell_type": "markdown",
      "metadata": {
        "id": "KMXBOOw9Qsw5"
      },
      "source": [
        "### Q3.a. Answer"
      ]
    },
    {
      "cell_type": "code",
      "execution_count": 6,
      "metadata": {
        "id": "yGFINq_VjbCq"
      },
      "outputs": [],
      "source": [
        "# print(df.columns)\n",
        "\n",
        "x = df[['ydline', 'kicker', 'togo']]\n",
        "y = df['qtr']"
      ]
    },
    {
      "cell_type": "code",
      "execution_count": 7,
      "metadata": {
        "colab": {
          "base_uri": "https://localhost:8080/"
        },
        "id": "a6NJ8u1skQyI",
        "outputId": "2497d23b-61ed-4394-a66c-fc448fd3087e"
      },
      "outputs": [
        {
          "data": {
            "text/plain": [
              "array([1, 2, 3, 4, 5])"
            ]
          },
          "execution_count": 7,
          "metadata": {},
          "output_type": "execute_result"
        }
      ],
      "source": [
        "y.unique()"
      ]
    },
    {
      "cell_type": "code",
      "execution_count": 14,
      "metadata": {
        "id": "1ZRCKh6Ip1Rg"
      },
      "outputs": [],
      "source": [
        "#Initializing LDA\n",
        "lda_model = LinearDiscriminantAnalysis()\n",
        "X_lda = lda_model.fit_transform(x, y)"
      ]
    },
    {
      "cell_type": "code",
      "execution_count": 26,
      "metadata": {
        "colab": {
          "base_uri": "https://localhost:8080/",
          "height": 206
        },
        "id": "_4RsYMFjqvNh",
        "outputId": "814415e5-9417-4539-fa84-cdd0b30273fc"
      },
      "outputs": [
        {
          "data": {
            "text/html": [
              "\n",
              "  <div id=\"df-0b24cd3a-ab3a-46d0-974e-ce40f1296dc0\">\n",
              "    <div class=\"colab-df-container\">\n",
              "      <div>\n",
              "<style scoped>\n",
              "    .dataframe tbody tr th:only-of-type {\n",
              "        vertical-align: middle;\n",
              "    }\n",
              "\n",
              "    .dataframe tbody tr th {\n",
              "        vertical-align: top;\n",
              "    }\n",
              "\n",
              "    .dataframe thead th {\n",
              "        text-align: right;\n",
              "    }\n",
              "</style>\n",
              "<table border=\"1\" class=\"dataframe\">\n",
              "  <thead>\n",
              "    <tr style=\"text-align: right;\">\n",
              "      <th></th>\n",
              "      <th>0</th>\n",
              "      <th>1</th>\n",
              "      <th>2</th>\n",
              "    </tr>\n",
              "  </thead>\n",
              "  <tbody>\n",
              "    <tr>\n",
              "      <th>0</th>\n",
              "      <td>-0.167924</td>\n",
              "      <td>1.187875</td>\n",
              "      <td>0.872962</td>\n",
              "    </tr>\n",
              "    <tr>\n",
              "      <th>1</th>\n",
              "      <td>0.750595</td>\n",
              "      <td>-0.670894</td>\n",
              "      <td>-1.180925</td>\n",
              "    </tr>\n",
              "    <tr>\n",
              "      <th>2</th>\n",
              "      <td>-0.692173</td>\n",
              "      <td>0.427792</td>\n",
              "      <td>-0.848015</td>\n",
              "    </tr>\n",
              "    <tr>\n",
              "      <th>3</th>\n",
              "      <td>-0.061775</td>\n",
              "      <td>-0.342091</td>\n",
              "      <td>-1.453962</td>\n",
              "    </tr>\n",
              "    <tr>\n",
              "      <th>4</th>\n",
              "      <td>1.008387</td>\n",
              "      <td>1.741230</td>\n",
              "      <td>2.903967</td>\n",
              "    </tr>\n",
              "  </tbody>\n",
              "</table>\n",
              "</div>\n",
              "      <button class=\"colab-df-convert\" onclick=\"convertToInteractive('df-0b24cd3a-ab3a-46d0-974e-ce40f1296dc0')\"\n",
              "              title=\"Convert this dataframe to an interactive table.\"\n",
              "              style=\"display:none;\">\n",
              "        \n",
              "  <svg xmlns=\"http://www.w3.org/2000/svg\" height=\"24px\"viewBox=\"0 0 24 24\"\n",
              "       width=\"24px\">\n",
              "    <path d=\"M0 0h24v24H0V0z\" fill=\"none\"/>\n",
              "    <path d=\"M18.56 5.44l.94 2.06.94-2.06 2.06-.94-2.06-.94-.94-2.06-.94 2.06-2.06.94zm-11 1L8.5 8.5l.94-2.06 2.06-.94-2.06-.94L8.5 2.5l-.94 2.06-2.06.94zm10 10l.94 2.06.94-2.06 2.06-.94-2.06-.94-.94-2.06-.94 2.06-2.06.94z\"/><path d=\"M17.41 7.96l-1.37-1.37c-.4-.4-.92-.59-1.43-.59-.52 0-1.04.2-1.43.59L10.3 9.45l-7.72 7.72c-.78.78-.78 2.05 0 2.83L4 21.41c.39.39.9.59 1.41.59.51 0 1.02-.2 1.41-.59l7.78-7.78 2.81-2.81c.8-.78.8-2.07 0-2.86zM5.41 20L4 18.59l7.72-7.72 1.47 1.35L5.41 20z\"/>\n",
              "  </svg>\n",
              "      </button>\n",
              "      \n",
              "  <style>\n",
              "    .colab-df-container {\n",
              "      display:flex;\n",
              "      flex-wrap:wrap;\n",
              "      gap: 12px;\n",
              "    }\n",
              "\n",
              "    .colab-df-convert {\n",
              "      background-color: #E8F0FE;\n",
              "      border: none;\n",
              "      border-radius: 50%;\n",
              "      cursor: pointer;\n",
              "      display: none;\n",
              "      fill: #1967D2;\n",
              "      height: 32px;\n",
              "      padding: 0 0 0 0;\n",
              "      width: 32px;\n",
              "    }\n",
              "\n",
              "    .colab-df-convert:hover {\n",
              "      background-color: #E2EBFA;\n",
              "      box-shadow: 0px 1px 2px rgba(60, 64, 67, 0.3), 0px 1px 3px 1px rgba(60, 64, 67, 0.15);\n",
              "      fill: #174EA6;\n",
              "    }\n",
              "\n",
              "    [theme=dark] .colab-df-convert {\n",
              "      background-color: #3B4455;\n",
              "      fill: #D2E3FC;\n",
              "    }\n",
              "\n",
              "    [theme=dark] .colab-df-convert:hover {\n",
              "      background-color: #434B5C;\n",
              "      box-shadow: 0px 1px 3px 1px rgba(0, 0, 0, 0.15);\n",
              "      filter: drop-shadow(0px 1px 2px rgba(0, 0, 0, 0.3));\n",
              "      fill: #FFFFFF;\n",
              "    }\n",
              "  </style>\n",
              "\n",
              "      <script>\n",
              "        const buttonEl =\n",
              "          document.querySelector('#df-0b24cd3a-ab3a-46d0-974e-ce40f1296dc0 button.colab-df-convert');\n",
              "        buttonEl.style.display =\n",
              "          google.colab.kernel.accessAllowed ? 'block' : 'none';\n",
              "\n",
              "        async function convertToInteractive(key) {\n",
              "          const element = document.querySelector('#df-0b24cd3a-ab3a-46d0-974e-ce40f1296dc0');\n",
              "          const dataTable =\n",
              "            await google.colab.kernel.invokeFunction('convertToInteractive',\n",
              "                                                     [key], {});\n",
              "          if (!dataTable) return;\n",
              "\n",
              "          const docLinkHtml = 'Like what you see? Visit the ' +\n",
              "            '<a target=\"_blank\" href=https://colab.research.google.com/notebooks/data_table.ipynb>data table notebook</a>'\n",
              "            + ' to learn more about interactive tables.';\n",
              "          element.innerHTML = '';\n",
              "          dataTable['output_type'] = 'display_data';\n",
              "          await google.colab.output.renderOutput(dataTable, element);\n",
              "          const docLink = document.createElement('div');\n",
              "          docLink.innerHTML = docLinkHtml;\n",
              "          element.appendChild(docLink);\n",
              "        }\n",
              "      </script>\n",
              "    </div>\n",
              "  </div>\n",
              "  "
            ],
            "text/plain": [
              "          0         1         2\n",
              "0 -0.167924  1.187875  0.872962\n",
              "1  0.750595 -0.670894 -1.180925\n",
              "2 -0.692173  0.427792 -0.848015\n",
              "3 -0.061775 -0.342091 -1.453962\n",
              "4  1.008387  1.741230  2.903967"
            ]
          },
          "execution_count": 26,
          "metadata": {},
          "output_type": "execute_result"
        }
      ],
      "source": [
        "lda_df=pd.DataFrame(X_lda)\n",
        "lda_df.head()"
      ]
    },
    {
      "cell_type": "code",
      "execution_count": 16,
      "metadata": {
        "colab": {
          "base_uri": "https://localhost:8080/"
        },
        "id": "9-GJu__xOh2u",
        "outputId": "bdb4a8d3-6a02-4465-c0fe-539f0ad6867e"
      },
      "outputs": [
        {
          "data": {
            "text/plain": [
              "array([0.69027229, 0.24866688, 0.06106083])"
            ]
          },
          "execution_count": 16,
          "metadata": {},
          "output_type": "execute_result"
        }
      ],
      "source": [
        "# Checking Variance Ratio\n",
        "lda_var_ratios = lda_model.explained_variance_ratio_\n",
        "lda_var_ratios"
      ]
    },
    {
      "cell_type": "code",
      "execution_count": 27,
      "metadata": {
        "colab": {
          "base_uri": "https://localhost:8080/",
          "height": 206
        },
        "id": "0ytlLXM9Pj8P",
        "outputId": "2cd99cae-19ec-4ed0-ad6c-5f4321332c0d"
      },
      "outputs": [
        {
          "data": {
            "text/html": [
              "\n",
              "  <div id=\"df-5311e08d-8430-472a-b563-8211b1f36652\">\n",
              "    <div class=\"colab-df-container\">\n",
              "      <div>\n",
              "<style scoped>\n",
              "    .dataframe tbody tr th:only-of-type {\n",
              "        vertical-align: middle;\n",
              "    }\n",
              "\n",
              "    .dataframe tbody tr th {\n",
              "        vertical-align: top;\n",
              "    }\n",
              "\n",
              "    .dataframe thead th {\n",
              "        text-align: right;\n",
              "    }\n",
              "</style>\n",
              "<table border=\"1\" class=\"dataframe\">\n",
              "  <thead>\n",
              "    <tr style=\"text-align: right;\">\n",
              "      <th></th>\n",
              "      <th>0</th>\n",
              "      <th>1</th>\n",
              "    </tr>\n",
              "  </thead>\n",
              "  <tbody>\n",
              "    <tr>\n",
              "      <th>0</th>\n",
              "      <td>-0.167924</td>\n",
              "      <td>1.187875</td>\n",
              "    </tr>\n",
              "    <tr>\n",
              "      <th>1</th>\n",
              "      <td>0.750595</td>\n",
              "      <td>-0.670894</td>\n",
              "    </tr>\n",
              "    <tr>\n",
              "      <th>2</th>\n",
              "      <td>-0.692173</td>\n",
              "      <td>0.427792</td>\n",
              "    </tr>\n",
              "    <tr>\n",
              "      <th>3</th>\n",
              "      <td>-0.061775</td>\n",
              "      <td>-0.342091</td>\n",
              "    </tr>\n",
              "    <tr>\n",
              "      <th>4</th>\n",
              "      <td>1.008387</td>\n",
              "      <td>1.741230</td>\n",
              "    </tr>\n",
              "  </tbody>\n",
              "</table>\n",
              "</div>\n",
              "      <button class=\"colab-df-convert\" onclick=\"convertToInteractive('df-5311e08d-8430-472a-b563-8211b1f36652')\"\n",
              "              title=\"Convert this dataframe to an interactive table.\"\n",
              "              style=\"display:none;\">\n",
              "        \n",
              "  <svg xmlns=\"http://www.w3.org/2000/svg\" height=\"24px\"viewBox=\"0 0 24 24\"\n",
              "       width=\"24px\">\n",
              "    <path d=\"M0 0h24v24H0V0z\" fill=\"none\"/>\n",
              "    <path d=\"M18.56 5.44l.94 2.06.94-2.06 2.06-.94-2.06-.94-.94-2.06-.94 2.06-2.06.94zm-11 1L8.5 8.5l.94-2.06 2.06-.94-2.06-.94L8.5 2.5l-.94 2.06-2.06.94zm10 10l.94 2.06.94-2.06 2.06-.94-2.06-.94-.94-2.06-.94 2.06-2.06.94z\"/><path d=\"M17.41 7.96l-1.37-1.37c-.4-.4-.92-.59-1.43-.59-.52 0-1.04.2-1.43.59L10.3 9.45l-7.72 7.72c-.78.78-.78 2.05 0 2.83L4 21.41c.39.39.9.59 1.41.59.51 0 1.02-.2 1.41-.59l7.78-7.78 2.81-2.81c.8-.78.8-2.07 0-2.86zM5.41 20L4 18.59l7.72-7.72 1.47 1.35L5.41 20z\"/>\n",
              "  </svg>\n",
              "      </button>\n",
              "      \n",
              "  <style>\n",
              "    .colab-df-container {\n",
              "      display:flex;\n",
              "      flex-wrap:wrap;\n",
              "      gap: 12px;\n",
              "    }\n",
              "\n",
              "    .colab-df-convert {\n",
              "      background-color: #E8F0FE;\n",
              "      border: none;\n",
              "      border-radius: 50%;\n",
              "      cursor: pointer;\n",
              "      display: none;\n",
              "      fill: #1967D2;\n",
              "      height: 32px;\n",
              "      padding: 0 0 0 0;\n",
              "      width: 32px;\n",
              "    }\n",
              "\n",
              "    .colab-df-convert:hover {\n",
              "      background-color: #E2EBFA;\n",
              "      box-shadow: 0px 1px 2px rgba(60, 64, 67, 0.3), 0px 1px 3px 1px rgba(60, 64, 67, 0.15);\n",
              "      fill: #174EA6;\n",
              "    }\n",
              "\n",
              "    [theme=dark] .colab-df-convert {\n",
              "      background-color: #3B4455;\n",
              "      fill: #D2E3FC;\n",
              "    }\n",
              "\n",
              "    [theme=dark] .colab-df-convert:hover {\n",
              "      background-color: #434B5C;\n",
              "      box-shadow: 0px 1px 3px 1px rgba(0, 0, 0, 0.15);\n",
              "      filter: drop-shadow(0px 1px 2px rgba(0, 0, 0, 0.3));\n",
              "      fill: #FFFFFF;\n",
              "    }\n",
              "  </style>\n",
              "\n",
              "      <script>\n",
              "        const buttonEl =\n",
              "          document.querySelector('#df-5311e08d-8430-472a-b563-8211b1f36652 button.colab-df-convert');\n",
              "        buttonEl.style.display =\n",
              "          google.colab.kernel.accessAllowed ? 'block' : 'none';\n",
              "\n",
              "        async function convertToInteractive(key) {\n",
              "          const element = document.querySelector('#df-5311e08d-8430-472a-b563-8211b1f36652');\n",
              "          const dataTable =\n",
              "            await google.colab.kernel.invokeFunction('convertToInteractive',\n",
              "                                                     [key], {});\n",
              "          if (!dataTable) return;\n",
              "\n",
              "          const docLinkHtml = 'Like what you see? Visit the ' +\n",
              "            '<a target=\"_blank\" href=https://colab.research.google.com/notebooks/data_table.ipynb>data table notebook</a>'\n",
              "            + ' to learn more about interactive tables.';\n",
              "          element.innerHTML = '';\n",
              "          dataTable['output_type'] = 'display_data';\n",
              "          await google.colab.output.renderOutput(dataTable, element);\n",
              "          const docLink = document.createElement('div');\n",
              "          docLink.innerHTML = docLinkHtml;\n",
              "          element.appendChild(docLink);\n",
              "        }\n",
              "      </script>\n",
              "    </div>\n",
              "  </div>\n",
              "  "
            ],
            "text/plain": [
              "          0         1\n",
              "0 -0.167924  1.187875\n",
              "1  0.750595 -0.670894\n",
              "2 -0.692173  0.427792\n",
              "3 -0.061775 -0.342091\n",
              "4  1.008387  1.741230"
            ]
          },
          "execution_count": 27,
          "metadata": {},
          "output_type": "execute_result"
        }
      ],
      "source": [
        "lda_df = lda_df.drop(2,axis=1)\n",
        "lda_df.head()"
      ]
    },
    {
      "cell_type": "markdown",
      "metadata": {
        "id": "tfbcYw0TOl38"
      },
      "source": [
        "2 LDs are chosen since, the variance ratio of 3rd LD is comparatively very low. \n",
        "\n",
        "The total variance of LD1 and LD2 amounts to approx. 0.94"
      ]
    },
    {
      "attachments": {},
      "cell_type": "markdown",
      "metadata": {
        "id": "qaYFjjRkQlqQ"
      },
      "source": [
        "### Q3.b. Answer"
      ]
    },
    {
      "cell_type": "code",
      "execution_count": 53,
      "metadata": {
        "id": "iqRGfVQcrGZB"
      },
      "outputs": [],
      "source": [
        "# create the PCA instance and fit transform on independent features\n",
        "pca_model = PCA()\n",
        "x = df[[\"togo\",\"ydline\",\"kicker\",\"distance\",\"homekick\",\"kickdiff\",\"timerem\"]]\n",
        "X_pca = pca_model.fit_transform(x)"
      ]
    },
    {
      "cell_type": "code",
      "execution_count": 54,
      "metadata": {
        "colab": {
          "base_uri": "https://localhost:8080/",
          "height": 206
        },
        "id": "pdUg8iP8izES",
        "outputId": "a7316e4b-0305-43f9-ee4f-3eef19bafca7"
      },
      "outputs": [
        {
          "data": {
            "text/html": [
              "\n",
              "  <div id=\"df-ffb7570f-333f-4703-a518-bdd6a5e4e872\">\n",
              "    <div class=\"colab-df-container\">\n",
              "      <div>\n",
              "<style scoped>\n",
              "    .dataframe tbody tr th:only-of-type {\n",
              "        vertical-align: middle;\n",
              "    }\n",
              "\n",
              "    .dataframe tbody tr th {\n",
              "        vertical-align: top;\n",
              "    }\n",
              "\n",
              "    .dataframe thead th {\n",
              "        text-align: right;\n",
              "    }\n",
              "</style>\n",
              "<table border=\"1\" class=\"dataframe\">\n",
              "  <thead>\n",
              "    <tr style=\"text-align: right;\">\n",
              "      <th></th>\n",
              "      <th>0</th>\n",
              "      <th>1</th>\n",
              "      <th>2</th>\n",
              "      <th>3</th>\n",
              "      <th>4</th>\n",
              "      <th>5</th>\n",
              "      <th>6</th>\n",
              "    </tr>\n",
              "  </thead>\n",
              "  <tbody>\n",
              "    <tr>\n",
              "      <th>0</th>\n",
              "      <td>-1117.364095</td>\n",
              "      <td>-8.216416</td>\n",
              "      <td>4.203932</td>\n",
              "      <td>2.876802</td>\n",
              "      <td>4.992394</td>\n",
              "      <td>0.259045</td>\n",
              "      <td>-0.434343</td>\n",
              "    </tr>\n",
              "    <tr>\n",
              "      <th>1</th>\n",
              "      <td>-1582.346693</td>\n",
              "      <td>13.936185</td>\n",
              "      <td>3.536549</td>\n",
              "      <td>-0.824618</td>\n",
              "      <td>-4.786317</td>\n",
              "      <td>-0.555416</td>\n",
              "      <td>-0.550318</td>\n",
              "    </tr>\n",
              "    <tr>\n",
              "      <th>2</th>\n",
              "      <td>-1015.357652</td>\n",
              "      <td>-11.624594</td>\n",
              "      <td>5.174718</td>\n",
              "      <td>-7.567141</td>\n",
              "      <td>-2.024739</td>\n",
              "      <td>0.021399</td>\n",
              "      <td>0.434529</td>\n",
              "    </tr>\n",
              "    <tr>\n",
              "      <th>3</th>\n",
              "      <td>-1037.342888</td>\n",
              "      <td>1.015018</td>\n",
              "      <td>5.291474</td>\n",
              "      <td>-14.534817</td>\n",
              "      <td>-4.709722</td>\n",
              "      <td>-0.307126</td>\n",
              "      <td>0.332654</td>\n",
              "    </tr>\n",
              "    <tr>\n",
              "      <th>4</th>\n",
              "      <td>-1351.351648</td>\n",
              "      <td>5.590615</td>\n",
              "      <td>3.881281</td>\n",
              "      <td>0.509047</td>\n",
              "      <td>13.961923</td>\n",
              "      <td>0.450106</td>\n",
              "      <td>0.561355</td>\n",
              "    </tr>\n",
              "  </tbody>\n",
              "</table>\n",
              "</div>\n",
              "      <button class=\"colab-df-convert\" onclick=\"convertToInteractive('df-ffb7570f-333f-4703-a518-bdd6a5e4e872')\"\n",
              "              title=\"Convert this dataframe to an interactive table.\"\n",
              "              style=\"display:none;\">\n",
              "        \n",
              "  <svg xmlns=\"http://www.w3.org/2000/svg\" height=\"24px\"viewBox=\"0 0 24 24\"\n",
              "       width=\"24px\">\n",
              "    <path d=\"M0 0h24v24H0V0z\" fill=\"none\"/>\n",
              "    <path d=\"M18.56 5.44l.94 2.06.94-2.06 2.06-.94-2.06-.94-.94-2.06-.94 2.06-2.06.94zm-11 1L8.5 8.5l.94-2.06 2.06-.94-2.06-.94L8.5 2.5l-.94 2.06-2.06.94zm10 10l.94 2.06.94-2.06 2.06-.94-2.06-.94-.94-2.06-.94 2.06-2.06.94z\"/><path d=\"M17.41 7.96l-1.37-1.37c-.4-.4-.92-.59-1.43-.59-.52 0-1.04.2-1.43.59L10.3 9.45l-7.72 7.72c-.78.78-.78 2.05 0 2.83L4 21.41c.39.39.9.59 1.41.59.51 0 1.02-.2 1.41-.59l7.78-7.78 2.81-2.81c.8-.78.8-2.07 0-2.86zM5.41 20L4 18.59l7.72-7.72 1.47 1.35L5.41 20z\"/>\n",
              "  </svg>\n",
              "      </button>\n",
              "      \n",
              "  <style>\n",
              "    .colab-df-container {\n",
              "      display:flex;\n",
              "      flex-wrap:wrap;\n",
              "      gap: 12px;\n",
              "    }\n",
              "\n",
              "    .colab-df-convert {\n",
              "      background-color: #E8F0FE;\n",
              "      border: none;\n",
              "      border-radius: 50%;\n",
              "      cursor: pointer;\n",
              "      display: none;\n",
              "      fill: #1967D2;\n",
              "      height: 32px;\n",
              "      padding: 0 0 0 0;\n",
              "      width: 32px;\n",
              "    }\n",
              "\n",
              "    .colab-df-convert:hover {\n",
              "      background-color: #E2EBFA;\n",
              "      box-shadow: 0px 1px 2px rgba(60, 64, 67, 0.3), 0px 1px 3px 1px rgba(60, 64, 67, 0.15);\n",
              "      fill: #174EA6;\n",
              "    }\n",
              "\n",
              "    [theme=dark] .colab-df-convert {\n",
              "      background-color: #3B4455;\n",
              "      fill: #D2E3FC;\n",
              "    }\n",
              "\n",
              "    [theme=dark] .colab-df-convert:hover {\n",
              "      background-color: #434B5C;\n",
              "      box-shadow: 0px 1px 3px 1px rgba(0, 0, 0, 0.15);\n",
              "      filter: drop-shadow(0px 1px 2px rgba(0, 0, 0, 0.3));\n",
              "      fill: #FFFFFF;\n",
              "    }\n",
              "  </style>\n",
              "\n",
              "      <script>\n",
              "        const buttonEl =\n",
              "          document.querySelector('#df-ffb7570f-333f-4703-a518-bdd6a5e4e872 button.colab-df-convert');\n",
              "        buttonEl.style.display =\n",
              "          google.colab.kernel.accessAllowed ? 'block' : 'none';\n",
              "\n",
              "        async function convertToInteractive(key) {\n",
              "          const element = document.querySelector('#df-ffb7570f-333f-4703-a518-bdd6a5e4e872');\n",
              "          const dataTable =\n",
              "            await google.colab.kernel.invokeFunction('convertToInteractive',\n",
              "                                                     [key], {});\n",
              "          if (!dataTable) return;\n",
              "\n",
              "          const docLinkHtml = 'Like what you see? Visit the ' +\n",
              "            '<a target=\"_blank\" href=https://colab.research.google.com/notebooks/data_table.ipynb>data table notebook</a>'\n",
              "            + ' to learn more about interactive tables.';\n",
              "          element.innerHTML = '';\n",
              "          dataTable['output_type'] = 'display_data';\n",
              "          await google.colab.output.renderOutput(dataTable, element);\n",
              "          const docLink = document.createElement('div');\n",
              "          docLink.innerHTML = docLinkHtml;\n",
              "          element.appendChild(docLink);\n",
              "        }\n",
              "      </script>\n",
              "    </div>\n",
              "  </div>\n",
              "  "
            ],
            "text/plain": [
              "             0          1         2          3          4         5         6\n",
              "0 -1117.364095  -8.216416  4.203932   2.876802   4.992394  0.259045 -0.434343\n",
              "1 -1582.346693  13.936185  3.536549  -0.824618  -4.786317 -0.555416 -0.550318\n",
              "2 -1015.357652 -11.624594  5.174718  -7.567141  -2.024739  0.021399  0.434529\n",
              "3 -1037.342888   1.015018  5.291474 -14.534817  -4.709722 -0.307126  0.332654\n",
              "4 -1351.351648   5.590615  3.881281   0.509047  13.961923  0.450106  0.561355"
            ]
          },
          "execution_count": 54,
          "metadata": {},
          "output_type": "execute_result"
        }
      ],
      "source": [
        "pda_df = pd.DataFrame(X_pca)\n",
        "pda_df.head()"
      ]
    },
    {
      "cell_type": "code",
      "execution_count": 55,
      "metadata": {
        "colab": {
          "base_uri": "https://localhost:8080/"
        },
        "id": "lKtjXv31rKoy",
        "outputId": "4f17c266-ebfa-4595-81e7-6f5e7a2b1b6e"
      },
      "outputs": [
        {
          "name": "stdout",
          "output_type": "stream",
          "text": [
            "[9.99565220e-01 1.99285235e-04 1.26761728e-04 9.21077241e-05\n",
            " 1.52729172e-05 1.11517256e-06 2.37704095e-07]\n"
          ]
        }
      ],
      "source": [
        "#variance explained by each component\n",
        "pca_variance_ratio = pca_model.explained_variance_ratio_\n",
        "print(pca_variance_ratio)"
      ]
    },
    {
      "cell_type": "code",
      "execution_count": 60,
      "metadata": {
        "colab": {
          "base_uri": "https://localhost:8080/",
          "height": 295
        },
        "id": "aMijkRc9kunl",
        "outputId": "4583ce7e-7de5-4803-c3ac-611364318511"
      },
      "outputs": [
        {
          "data": {
            "image/png": "[encoded data removed]",
            "text/plain": [
              "<Figure size 432x288 with 1 Axes>"
            ]
          },
          "metadata": {
            "needs_background": "light"
          },
          "output_type": "display_data"
        }
      ],
      "source": [
        "pca_vals = np.arange(pca_model.n_components_)\n",
        "plt.plot(pca_vals, pca_variance_ratio)\n",
        "plt.title('Principle Components vs their Variance')\n",
        "plt.xlabel('Principal Component')\n",
        "plt.ylabel('Variance')\n",
        "plt.show()"
      ]
    },
    {
      "cell_type": "markdown",
      "metadata": {
        "id": "jfO2qWU-nDDs"
      },
      "source": [
        "From the above, we can choose the 1st PCA component since it alone covers over 99% of the variance in data provided"
      ]
    }
  ],
  "metadata": {
    "colab": {
      "provenance": []
    },
    "kernelspec": {
      "display_name": "Python 3",
      "name": "python3"
    },
    "language_info": {
      "name": "python"
    }
  },
  "nbformat": 4,
  "nbformat_minor": 0
}
