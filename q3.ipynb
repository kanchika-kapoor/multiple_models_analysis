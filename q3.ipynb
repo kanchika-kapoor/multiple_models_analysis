{
  "cells": [
    {
      "cell_type": "markdown",
      "metadata": {
        "id": "TrcESgyTeVs7"
      },
      "source": [
        "## **Question 3**                                                                                              [10 marks]\n",
        "\n",
        " Use dataset available on http://users.stat.ufl.edu/~winner/data/nfl2008_fga.csv\n",
        "\n",
        "⦁\tUse LDA to classify the dataset into few classes so that at least 90% of information of dataset is explained through new classification. (Hint: model the variable “qtr” to variables “togo”, “kicker”, and “ydline”). How many LDs do you choose? Explain the reason.                                                                       [5]                        \n",
        "⦁\tApply PCA, and identify the important principle components involving at least 90% of dataset variation. Explain your decision strategy?  Plot principle components versus their variance.  [5]                                       \n",
        "\n"
      ]
    },
    {
      "cell_type": "code",
      "execution_count": null,
      "metadata": {
        "colab": {
          "base_uri": "https://localhost:8080/"
        },
        "id": "Da6FUz-uegmP",
        "outputId": "2e5cabbb-0d8a-4dcb-9b98-ca5c46d691fd"
      },
      "outputs": [
        {
          "name": "stdout",
          "output_type": "stream",
          "text": [
            "--2022-12-22 21:16:18--  http://users.stat.ufl.edu/~winner/data/nfl2008_fga.csv\n",
            "Resolving users.stat.ufl.edu (users.stat.ufl.edu)... 128.227.24.94\n",
            "Connecting to users.stat.ufl.edu (users.stat.ufl.edu)|128.227.24.94|:80... connected.\n",
            "HTTP request sent, awaiting response... 301 Moved Permanently\n",
            "Location: https://users.stat.ufl.edu/~winner/data/nfl2008_fga.csv [following]\n",
            "--2022-12-22 21:16:18--  https://users.stat.ufl.edu/~winner/data/nfl2008_fga.csv\n",
            "Connecting to users.stat.ufl.edu (users.stat.ufl.edu)|128.227.24.94|:443... connected.\n",
            "WARNING: cannot verify users.stat.ufl.edu's certificate, issued by ‘CN=InCommon RSA Server CA,OU=InCommon,O=Internet2,L=Ann Arbor,ST=MI,C=US’:\n",
            "  Unable to locally verify the issuer's authority.\n",
            "HTTP request sent, awaiting response... 200 OK\n",
            "Length: 83329 (81K) [text/csv]\n",
            "Saving to: ‘nfl2008_fga.csv.1’\n",
            "\n",
            "\rnfl2008_fga.csv.1     0%[                    ]       0  --.-KB/s               \rnfl2008_fga.csv.1   100%[===================>]  81.38K  --.-KB/s    in 0.02s   \n",
            "\n",
            "2022-12-22 21:16:18 (3.72 MB/s) - ‘nfl2008_fga.csv.1’ saved [83329/83329]\n",
            "\n"
          ]
        }
      ],
      "source": [
        "!wget http://users.stat.ufl.edu/~winner/data/nfl2008_fga.csv --no-check-certificate"
      ]
    },
    {
      "cell_type": "code",
      "execution_count": null,
      "metadata": {
        "colab": {
          "base_uri": "https://localhost:8080/"
        },
        "id": "F3J8RVFLdrnK",
        "outputId": "4037fcd1-2c19-478f-fbaa-ea9912cf9095"
      },
      "outputs": [
        {
          "data": {
            "text/plain": [
              "GameDate    0\n",
              "AwayTeam    0\n",
              "HomeTeam    0\n",
              "qtr         0\n",
              "min         0\n",
              "sec         0\n",
              "kickteam    0\n",
              "def         0\n",
              "down        2\n",
              "togo        2\n",
              "kicker      0\n",
              "ydline      0\n",
              "name        0\n",
              "distance    0\n",
              "homekick    0\n",
              "kickdiff    0\n",
              "timerem     0\n",
              "offscore    0\n",
              "defscore    0\n",
              "season      0\n",
              "GOOD        0\n",
              "Missed      0\n",
              "Blocked     0\n",
              "dtype: int64"
            ]
          },
          "execution_count": 75,
          "metadata": {},
          "output_type": "execute_result"
        }
      ],
      "source": [
        "import pandas as pd\n",
        "from sklearn.model_selection import train_test_split\n",
        "\n",
        "# create dataframe\n",
        "df = pd.read_csv('nfl2008_fga.csv')\n",
        "# check if any columns has null values\n",
        "df.isnull().sum()"
      ]
    },
    {
      "cell_type": "markdown",
      "metadata": {
        "id": "NgH08YrWiok8"
      },
      "source": [
        "`togo` and `down` columns has some null values. we can check the datatype for those columns and decide on droping those rows or replacing with 0"
      ]
    },
    {
      "cell_type": "code",
      "execution_count": null,
      "metadata": {
        "colab": {
          "base_uri": "https://localhost:8080/",
          "height": 299
        },
        "id": "IKlu_qnJhmWP",
        "outputId": "cddf0743-a472-4807-e12d-1c7dac6f5066"
      },
      "outputs": [
        {
          "data": {
            "text/html": [
              "\n",
              "  <div id=\"df-22d1b0dc-1f5c-4372-adbc-6c0be2cc91ff\">\n",
              "    <div class=\"colab-df-container\">\n",
              "      <div>\n",
              "<style scoped>\n",
              "    .dataframe tbody tr th:only-of-type {\n",
              "        vertical-align: middle;\n",
              "    }\n",
              "\n",
              "    .dataframe tbody tr th {\n",
              "        vertical-align: top;\n",
              "    }\n",
              "\n",
              "    .dataframe thead th {\n",
              "        text-align: right;\n",
              "    }\n",
              "</style>\n",
              "<table border=\"1\" class=\"dataframe\">\n",
              "  <thead>\n",
              "    <tr style=\"text-align: right;\">\n",
              "      <th></th>\n",
              "      <th>GameDate</th>\n",
              "      <th>AwayTeam</th>\n",
              "      <th>HomeTeam</th>\n",
              "      <th>qtr</th>\n",
              "      <th>min</th>\n",
              "      <th>sec</th>\n",
              "      <th>kickteam</th>\n",
              "      <th>def</th>\n",
              "      <th>down</th>\n",
              "      <th>togo</th>\n",
              "      <th>...</th>\n",
              "      <th>distance</th>\n",
              "      <th>homekick</th>\n",
              "      <th>kickdiff</th>\n",
              "      <th>timerem</th>\n",
              "      <th>offscore</th>\n",
              "      <th>defscore</th>\n",
              "      <th>season</th>\n",
              "      <th>GOOD</th>\n",
              "      <th>Missed</th>\n",
              "      <th>Blocked</th>\n",
              "    </tr>\n",
              "  </thead>\n",
              "  <tbody>\n",
              "    <tr>\n",
              "      <th>0</th>\n",
              "      <td>20081130</td>\n",
              "      <td>IND</td>\n",
              "      <td>CLE</td>\n",
              "      <td>1</td>\n",
              "      <td>47</td>\n",
              "      <td>2</td>\n",
              "      <td>IND</td>\n",
              "      <td>CLE</td>\n",
              "      <td>4.0</td>\n",
              "      <td>11.0</td>\n",
              "      <td>...</td>\n",
              "      <td>30</td>\n",
              "      <td>0</td>\n",
              "      <td>-3</td>\n",
              "      <td>2822</td>\n",
              "      <td>0</td>\n",
              "      <td>3</td>\n",
              "      <td>2008</td>\n",
              "      <td>1</td>\n",
              "      <td>0</td>\n",
              "      <td>0</td>\n",
              "    </tr>\n",
              "    <tr>\n",
              "      <th>1</th>\n",
              "      <td>20081005</td>\n",
              "      <td>IND</td>\n",
              "      <td>HOU</td>\n",
              "      <td>1</td>\n",
              "      <td>54</td>\n",
              "      <td>47</td>\n",
              "      <td>IND</td>\n",
              "      <td>HOU</td>\n",
              "      <td>4.0</td>\n",
              "      <td>3.0</td>\n",
              "      <td>...</td>\n",
              "      <td>46</td>\n",
              "      <td>0</td>\n",
              "      <td>0</td>\n",
              "      <td>3287</td>\n",
              "      <td>0</td>\n",
              "      <td>0</td>\n",
              "      <td>2008</td>\n",
              "      <td>1</td>\n",
              "      <td>0</td>\n",
              "      <td>0</td>\n",
              "    </tr>\n",
              "    <tr>\n",
              "      <th>2</th>\n",
              "      <td>20081228</td>\n",
              "      <td>TEN</td>\n",
              "      <td>IND</td>\n",
              "      <td>1</td>\n",
              "      <td>45</td>\n",
              "      <td>20</td>\n",
              "      <td>IND</td>\n",
              "      <td>TEN</td>\n",
              "      <td>4.0</td>\n",
              "      <td>3.0</td>\n",
              "      <td>...</td>\n",
              "      <td>28</td>\n",
              "      <td>1</td>\n",
              "      <td>7</td>\n",
              "      <td>2720</td>\n",
              "      <td>7</td>\n",
              "      <td>0</td>\n",
              "      <td>2008</td>\n",
              "      <td>1</td>\n",
              "      <td>0</td>\n",
              "      <td>0</td>\n",
              "    </tr>\n",
              "    <tr>\n",
              "      <th>3</th>\n",
              "      <td>20081012</td>\n",
              "      <td>BAL</td>\n",
              "      <td>IND</td>\n",
              "      <td>1</td>\n",
              "      <td>45</td>\n",
              "      <td>42</td>\n",
              "      <td>IND</td>\n",
              "      <td>BAL</td>\n",
              "      <td>4.0</td>\n",
              "      <td>1.0</td>\n",
              "      <td>...</td>\n",
              "      <td>37</td>\n",
              "      <td>1</td>\n",
              "      <td>14</td>\n",
              "      <td>2742</td>\n",
              "      <td>14</td>\n",
              "      <td>0</td>\n",
              "      <td>2008</td>\n",
              "      <td>1</td>\n",
              "      <td>0</td>\n",
              "      <td>0</td>\n",
              "    </tr>\n",
              "    <tr>\n",
              "      <th>4</th>\n",
              "      <td>20080907</td>\n",
              "      <td>CHI</td>\n",
              "      <td>IND</td>\n",
              "      <td>1</td>\n",
              "      <td>50</td>\n",
              "      <td>56</td>\n",
              "      <td>IND</td>\n",
              "      <td>CHI</td>\n",
              "      <td>4.0</td>\n",
              "      <td>21.0</td>\n",
              "      <td>...</td>\n",
              "      <td>39</td>\n",
              "      <td>1</td>\n",
              "      <td>0</td>\n",
              "      <td>3056</td>\n",
              "      <td>0</td>\n",
              "      <td>0</td>\n",
              "      <td>2008</td>\n",
              "      <td>1</td>\n",
              "      <td>0</td>\n",
              "      <td>0</td>\n",
              "    </tr>\n",
              "  </tbody>\n",
              "</table>\n",
              "<p>5 rows × 23 columns</p>\n",
              "</div>\n",
              "      <button class=\"colab-df-convert\" onclick=\"convertToInteractive('df-22d1b0dc-1f5c-4372-adbc-6c0be2cc91ff')\"\n",
              "              title=\"Convert this dataframe to an interactive table.\"\n",
              "              style=\"display:none;\">\n",
              "        \n",
              "  <svg xmlns=\"http://www.w3.org/2000/svg\" height=\"24px\"viewBox=\"0 0 24 24\"\n",
              "       width=\"24px\">\n",
              "    <path d=\"M0 0h24v24H0V0z\" fill=\"none\"/>\n",
              "    <path d=\"M18.56 5.44l.94 2.06.94-2.06 2.06-.94-2.06-.94-.94-2.06-.94 2.06-2.06.94zm-11 1L8.5 8.5l.94-2.06 2.06-.94-2.06-.94L8.5 2.5l-.94 2.06-2.06.94zm10 10l.94 2.06.94-2.06 2.06-.94-2.06-.94-.94-2.06-.94 2.06-2.06.94z\"/><path d=\"M17.41 7.96l-1.37-1.37c-.4-.4-.92-.59-1.43-.59-.52 0-1.04.2-1.43.59L10.3 9.45l-7.72 7.72c-.78.78-.78 2.05 0 2.83L4 21.41c.39.39.9.59 1.41.59.51 0 1.02-.2 1.41-.59l7.78-7.78 2.81-2.81c.8-.78.8-2.07 0-2.86zM5.41 20L4 18.59l7.72-7.72 1.47 1.35L5.41 20z\"/>\n",
              "  </svg>\n",
              "      </button>\n",
              "      \n",
              "  <style>\n",
              "    .colab-df-container {\n",
              "      display:flex;\n",
              "      flex-wrap:wrap;\n",
              "      gap: 12px;\n",
              "    }\n",
              "\n",
              "    .colab-df-convert {\n",
              "      background-color: #E8F0FE;\n",
              "      border: none;\n",
              "      border-radius: 50%;\n",
              "      cursor: pointer;\n",
              "      display: none;\n",
              "      fill: #1967D2;\n",
              "      height: 32px;\n",
              "      padding: 0 0 0 0;\n",
              "      width: 32px;\n",
              "    }\n",
              "\n",
              "    .colab-df-convert:hover {\n",
              "      background-color: #E2EBFA;\n",
              "      box-shadow: 0px 1px 2px rgba(60, 64, 67, 0.3), 0px 1px 3px 1px rgba(60, 64, 67, 0.15);\n",
              "      fill: #174EA6;\n",
              "    }\n",
              "\n",
              "    [theme=dark] .colab-df-convert {\n",
              "      background-color: #3B4455;\n",
              "      fill: #D2E3FC;\n",
              "    }\n",
              "\n",
              "    [theme=dark] .colab-df-convert:hover {\n",
              "      background-color: #434B5C;\n",
              "      box-shadow: 0px 1px 3px 1px rgba(0, 0, 0, 0.15);\n",
              "      filter: drop-shadow(0px 1px 2px rgba(0, 0, 0, 0.3));\n",
              "      fill: #FFFFFF;\n",
              "    }\n",
              "  </style>\n",
              "\n",
              "      <script>\n",
              "        const buttonEl =\n",
              "          document.querySelector('#df-22d1b0dc-1f5c-4372-adbc-6c0be2cc91ff button.colab-df-convert');\n",
              "        buttonEl.style.display =\n",
              "          google.colab.kernel.accessAllowed ? 'block' : 'none';\n",
              "\n",
              "        async function convertToInteractive(key) {\n",
              "          const element = document.querySelector('#df-22d1b0dc-1f5c-4372-adbc-6c0be2cc91ff');\n",
              "          const dataTable =\n",
              "            await google.colab.kernel.invokeFunction('convertToInteractive',\n",
              "                                                     [key], {});\n",
              "          if (!dataTable) return;\n",
              "\n",
              "          const docLinkHtml = 'Like what you see? Visit the ' +\n",
              "            '<a target=\"_blank\" href=https://colab.research.google.com/notebooks/data_table.ipynb>data table notebook</a>'\n",
              "            + ' to learn more about interactive tables.';\n",
              "          element.innerHTML = '';\n",
              "          dataTable['output_type'] = 'display_data';\n",
              "          await google.colab.output.renderOutput(dataTable, element);\n",
              "          const docLink = document.createElement('div');\n",
              "          docLink.innerHTML = docLinkHtml;\n",
              "          element.appendChild(docLink);\n",
              "        }\n",
              "      </script>\n",
              "    </div>\n",
              "  </div>\n",
              "  "
            ],
            "text/plain": [
              "   GameDate AwayTeam HomeTeam  qtr  min  sec kickteam  def  down  togo  ...  \\\n",
              "0  20081130      IND      CLE    1   47    2      IND  CLE   4.0  11.0  ...   \n",
              "1  20081005      IND      HOU    1   54   47      IND  HOU   4.0   3.0  ...   \n",
              "2  20081228      TEN      IND    1   45   20      IND  TEN   4.0   3.0  ...   \n",
              "3  20081012      BAL      IND    1   45   42      IND  BAL   4.0   1.0  ...   \n",
              "4  20080907      CHI      IND    1   50   56      IND  CHI   4.0  21.0  ...   \n",
              "\n",
              "   distance  homekick kickdiff  timerem  offscore  defscore  season  GOOD  \\\n",
              "0        30         0       -3     2822         0         3    2008     1   \n",
              "1        46         0        0     3287         0         0    2008     1   \n",
              "2        28         1        7     2720         7         0    2008     1   \n",
              "3        37         1       14     2742        14         0    2008     1   \n",
              "4        39         1        0     3056         0         0    2008     1   \n",
              "\n",
              "   Missed  Blocked  \n",
              "0       0        0  \n",
              "1       0        0  \n",
              "2       0        0  \n",
              "3       0        0  \n",
              "4       0        0  \n",
              "\n",
              "[5 rows x 23 columns]"
            ]
          },
          "execution_count": 76,
          "metadata": {},
          "output_type": "execute_result"
        }
      ],
      "source": [
        "df.head(5)"
      ]
    },
    {
      "cell_type": "markdown",
      "metadata": {
        "id": "LeEG0MewjIm-"
      },
      "source": [
        "both `togo` and `down` columns are numerical. we can replace null values with 0"
      ]
    },
    {
      "cell_type": "code",
      "execution_count": null,
      "metadata": {
        "colab": {
          "base_uri": "https://localhost:8080/"
        },
        "id": "EisaX2pVih_d",
        "outputId": "c0471b87-c44a-4bb1-d94f-a9093a61c7f6"
      },
      "outputs": [
        {
          "data": {
            "text/plain": [
              "GameDate    0\n",
              "AwayTeam    0\n",
              "HomeTeam    0\n",
              "qtr         0\n",
              "min         0\n",
              "sec         0\n",
              "kickteam    0\n",
              "def         0\n",
              "down        0\n",
              "togo        0\n",
              "kicker      0\n",
              "ydline      0\n",
              "name        0\n",
              "distance    0\n",
              "homekick    0\n",
              "kickdiff    0\n",
              "timerem     0\n",
              "offscore    0\n",
              "defscore    0\n",
              "season      0\n",
              "GOOD        0\n",
              "Missed      0\n",
              "Blocked     0\n",
              "dtype: int64"
            ]
          },
          "execution_count": 77,
          "metadata": {},
          "output_type": "execute_result"
        }
      ],
      "source": [
        "df = df.fillna(0)\n",
        "df.isnull().sum()"
      ]
    },
    {
      "cell_type": "code",
      "execution_count": null,
      "metadata": {
        "id": "yGFINq_VjbCq"
      },
      "outputs": [],
      "source": [
        "# print(df.columns)\n",
        "\n",
        "# get only numerical datatype columns\n",
        "def get_numerical_cols(dataframe):\n",
        "  numerical_cols=[]\n",
        "  for i in dataframe.columns:\n",
        "    if(dataframe[i].dtypes!='object'):\n",
        "      numerical_cols.append(i)\n",
        "  return numerical_cols\n",
        "\n",
        "x = df[get_numerical_cols(df)].drop(['qtr','GameDate'],axis=1)\n",
        "y = df['qtr']"
      ]
    },
    {
      "cell_type": "code",
      "execution_count": null,
      "metadata": {
        "colab": {
          "base_uri": "https://localhost:8080/"
        },
        "id": "a6NJ8u1skQyI",
        "outputId": "f2a61555-de2e-4a1f-86fd-85a5be161c2e"
      },
      "outputs": [
        {
          "data": {
            "text/plain": [
              "array([1, 2, 3, 4, 5])"
            ]
          },
          "execution_count": 79,
          "metadata": {},
          "output_type": "execute_result"
        }
      ],
      "source": [
        "y.unique()"
      ]
    },
    {
      "cell_type": "code",
      "execution_count": null,
      "metadata": {
        "id": "2-ap_xyenSf2"
      },
      "outputs": [],
      "source": [
        "from sklearn.preprocessing import StandardScaler\n",
        "from sklearn.tree import DecisionTreeClassifier\n",
        "from sklearn.metrics import accuracy_score\n",
        "import numpy as np\n",
        "\n",
        "X_train, X_test, y_train, y_test = train_test_split(x, y, test_size=0.3, random_state=42)\n",
        "\n",
        "# standardize the values using standard scalar\n",
        "scaler = StandardScaler()\n",
        "X_train = scaler.fit_transform(X_train)\n",
        "X_test = scaler.transform(X_test)"
      ]
    },
    {
      "cell_type": "code",
      "execution_count": null,
      "metadata": {
        "colab": {
          "base_uri": "https://localhost:8080/"
        },
        "id": "3I-Hs1C-oJk6",
        "outputId": "2415e397-86a4-41dd-a4e0-230dd6b5f0ea"
      },
      "outputs": [
        {
          "name": "stdout",
          "output_type": "stream",
          "text": [
            "Accuracy using 1000 MC run: 1.0\n"
          ]
        }
      ],
      "source": [
        "#Applying Decision Tree on Original Dataset\n",
        "\n",
        "acc = [] ### Blank vector\n",
        "for i in range(1000):\n",
        "  X_train,X_test,y_train,y_test=train_test_split(x,y,test_size=0.3,random_state=42)# split dataset\n",
        "  model_dt=DecisionTreeClassifier() # model\n",
        "  dt = model_dt.fit(X_train,y_train) # fit the model\n",
        "  YPred = dt.predict(X_test) # predict\n",
        "  a = accuracy_score(y_test,YPred) # compute accuracy\n",
        "  acc.append(a) # append accuracy\n",
        "print(\"Accuracy using 1000 MC run:\", np.mean(acc))  # average of accuracy to stablize the result"
      ]
    },
    {
      "cell_type": "markdown",
      "metadata": {
        "id": "TiVScpego8vQ"
      },
      "source": [
        "\n",
        "LDA\n",
        "\n",
        "* Creates linear combination of the original features\n",
        "* Number of such transformations are 1 less than the number of classes (the classes are well seperated)\n",
        "* Very similar to PCA, LDA is supervised\n",
        "\n",
        "math\n",
        "\n",
        "ld1 = 0.5*x1 + 0.2*x2 + 0.3*x3\n",
        "\n",
        "\n",
        "\n",
        "\n"
      ]
    },
    {
      "cell_type": "code",
      "execution_count": null,
      "metadata": {
        "colab": {
          "base_uri": "https://localhost:8080/"
        },
        "id": "1ZRCKh6Ip1Rg",
        "outputId": "acd98f37-3c92-4a75-bd0e-b03b49965066"
      },
      "outputs": [
        {
          "data": {
            "text/plain": [
              "array([0.99244456])"
            ]
          },
          "execution_count": 82,
          "metadata": {},
          "output_type": "execute_result"
        }
      ],
      "source": [
        "from sklearn.discriminant_analysis import LinearDiscriminantAnalysis\n",
        "#Initializing LDA\n",
        "lda_model = LinearDiscriminantAnalysis(n_components=1)\n",
        "X_lda = lda_model.fit_transform(x, y)\n",
        "\n",
        "#Checking Variance Ratio\n",
        "lda_var_ratios = lda_model.explained_variance_ratio_\n",
        "lda_var_ratios"
      ]
    },
    {
      "cell_type": "code",
      "execution_count": null,
      "metadata": {
        "colab": {
          "base_uri": "https://localhost:8080/"
        },
        "id": "oHeON32pqEJd",
        "outputId": "b1f35ec0-80b3-463e-b4b8-b7e74446d8c1"
      },
      "outputs": [
        {
          "data": {
            "text/plain": [
              "1"
            ]
          },
          "execution_count": 83,
          "metadata": {},
          "output_type": "execute_result"
        }
      ],
      "source": [
        "def select_n_components(var_ratio, goal_var: float) -> int:\n",
        "    # Set initial variance explained so far\n",
        "    total_variance = 0.0\n",
        "    \n",
        "    # Set initial number of features\n",
        "    n_components = 0\n",
        "    \n",
        "    # For the explained variance of each feature:\n",
        "    for explained_variance in var_ratio:\n",
        "        \n",
        "        # Add the explained variance to the total\n",
        "        total_variance += explained_variance\n",
        "        \n",
        "        # Add one to the number of components\n",
        "        n_components += 1\n",
        "        \n",
        "        # If we reach our goal level of explained variance\n",
        "        if total_variance >= goal_var:\n",
        "            # End the loop\n",
        "            break\n",
        "            \n",
        "    # Return the number of components\n",
        "    return n_components\n",
        "\n",
        "#Selecting n components with 95% explained variance\n",
        "select_n_components(lda_var_ratios, 0.95)"
      ]
    },
    {
      "cell_type": "code",
      "execution_count": null,
      "metadata": {
        "id": "_4RsYMFjqvNh"
      },
      "outputs": [],
      "source": [
        "LDA=pd.DataFrame(X_lda)\n",
        "LDA.columns=['lda1']"
      ]
    },
    {
      "cell_type": "code",
      "execution_count": null,
      "metadata": {
        "colab": {
          "base_uri": "https://localhost:8080/"
        },
        "id": "8t2VrQYiq7yR",
        "outputId": "b2d46411-5dee-4a88-e718-7078d6262b67"
      },
      "outputs": [
        {
          "name": "stdout",
          "output_type": "stream",
          "text": [
            "Accuracy using 1000 MC run: 0.9775641025641023\n"
          ]
        }
      ],
      "source": [
        "#Training model after LDA\n",
        "\n",
        "acc = [] ### Blank vector\n",
        "for i in range(1000):\n",
        "  X_train,X_test,y_train,y_test=train_test_split(X_lda,y,test_size=0.3,random_state=30)# split dataset\n",
        "  model_dt=DecisionTreeClassifier() # model\n",
        "  dt = model_dt.fit(X_train,y_train) # fit the model\n",
        "  YPred = dt.predict(X_test) # predict\n",
        "  a = accuracy_score(y_test,YPred) # compute accuracy\n",
        "  acc.append(a) # append accuracy\n",
        "print(\"Accuracy using 1000 MC run:\", np.mean(acc))  # average of accuracy to stablize the result"
      ]
    },
    {
      "cell_type": "code",
      "execution_count": null,
      "metadata": {
        "colab": {
          "base_uri": "https://localhost:8080/",
          "height": 206
        },
        "id": "iqRGfVQcrGZB",
        "outputId": "c2847357-d15e-45e0-8d74-821c9ad73cef"
      },
      "outputs": [
        {
          "data": {
            "text/html": [
              "\n",
              "  <div id=\"df-01045e2c-7770-418e-8137-f0eac4ea432d\">\n",
              "    <div class=\"colab-df-container\">\n",
              "      <div>\n",
              "<style scoped>\n",
              "    .dataframe tbody tr th:only-of-type {\n",
              "        vertical-align: middle;\n",
              "    }\n",
              "\n",
              "    .dataframe tbody tr th {\n",
              "        vertical-align: top;\n",
              "    }\n",
              "\n",
              "    .dataframe thead th {\n",
              "        text-align: right;\n",
              "    }\n",
              "</style>\n",
              "<table border=\"1\" class=\"dataframe\">\n",
              "  <thead>\n",
              "    <tr style=\"text-align: right;\">\n",
              "      <th></th>\n",
              "      <th>pca1</th>\n",
              "    </tr>\n",
              "  </thead>\n",
              "  <tbody>\n",
              "    <tr>\n",
              "      <th>0</th>\n",
              "      <td>-0.016648</td>\n",
              "    </tr>\n",
              "    <tr>\n",
              "      <th>1</th>\n",
              "      <td>-0.000924</td>\n",
              "    </tr>\n",
              "    <tr>\n",
              "      <th>2</th>\n",
              "      <td>-0.000070</td>\n",
              "    </tr>\n",
              "    <tr>\n",
              "      <th>3</th>\n",
              "      <td>0.000101</td>\n",
              "    </tr>\n",
              "    <tr>\n",
              "      <th>4</th>\n",
              "      <td>0.000372</td>\n",
              "    </tr>\n",
              "  </tbody>\n",
              "</table>\n",
              "</div>\n",
              "      <button class=\"colab-df-convert\" onclick=\"convertToInteractive('df-01045e2c-7770-418e-8137-f0eac4ea432d')\"\n",
              "              title=\"Convert this dataframe to an interactive table.\"\n",
              "              style=\"display:none;\">\n",
              "        \n",
              "  <svg xmlns=\"http://www.w3.org/2000/svg\" height=\"24px\"viewBox=\"0 0 24 24\"\n",
              "       width=\"24px\">\n",
              "    <path d=\"M0 0h24v24H0V0z\" fill=\"none\"/>\n",
              "    <path d=\"M18.56 5.44l.94 2.06.94-2.06 2.06-.94-2.06-.94-.94-2.06-.94 2.06-2.06.94zm-11 1L8.5 8.5l.94-2.06 2.06-.94-2.06-.94L8.5 2.5l-.94 2.06-2.06.94zm10 10l.94 2.06.94-2.06 2.06-.94-2.06-.94-.94-2.06-.94 2.06-2.06.94z\"/><path d=\"M17.41 7.96l-1.37-1.37c-.4-.4-.92-.59-1.43-.59-.52 0-1.04.2-1.43.59L10.3 9.45l-7.72 7.72c-.78.78-.78 2.05 0 2.83L4 21.41c.39.39.9.59 1.41.59.51 0 1.02-.2 1.41-.59l7.78-7.78 2.81-2.81c.8-.78.8-2.07 0-2.86zM5.41 20L4 18.59l7.72-7.72 1.47 1.35L5.41 20z\"/>\n",
              "  </svg>\n",
              "      </button>\n",
              "      \n",
              "  <style>\n",
              "    .colab-df-container {\n",
              "      display:flex;\n",
              "      flex-wrap:wrap;\n",
              "      gap: 12px;\n",
              "    }\n",
              "\n",
              "    .colab-df-convert {\n",
              "      background-color: #E8F0FE;\n",
              "      border: none;\n",
              "      border-radius: 50%;\n",
              "      cursor: pointer;\n",
              "      display: none;\n",
              "      fill: #1967D2;\n",
              "      height: 32px;\n",
              "      padding: 0 0 0 0;\n",
              "      width: 32px;\n",
              "    }\n",
              "\n",
              "    .colab-df-convert:hover {\n",
              "      background-color: #E2EBFA;\n",
              "      box-shadow: 0px 1px 2px rgba(60, 64, 67, 0.3), 0px 1px 3px 1px rgba(60, 64, 67, 0.15);\n",
              "      fill: #174EA6;\n",
              "    }\n",
              "\n",
              "    [theme=dark] .colab-df-convert {\n",
              "      background-color: #3B4455;\n",
              "      fill: #D2E3FC;\n",
              "    }\n",
              "\n",
              "    [theme=dark] .colab-df-convert:hover {\n",
              "      background-color: #434B5C;\n",
              "      box-shadow: 0px 1px 3px 1px rgba(0, 0, 0, 0.15);\n",
              "      filter: drop-shadow(0px 1px 2px rgba(0, 0, 0, 0.3));\n",
              "      fill: #FFFFFF;\n",
              "    }\n",
              "  </style>\n",
              "\n",
              "      <script>\n",
              "        const buttonEl =\n",
              "          document.querySelector('#df-01045e2c-7770-418e-8137-f0eac4ea432d button.colab-df-convert');\n",
              "        buttonEl.style.display =\n",
              "          google.colab.kernel.accessAllowed ? 'block' : 'none';\n",
              "\n",
              "        async function convertToInteractive(key) {\n",
              "          const element = document.querySelector('#df-01045e2c-7770-418e-8137-f0eac4ea432d');\n",
              "          const dataTable =\n",
              "            await google.colab.kernel.invokeFunction('convertToInteractive',\n",
              "                                                     [key], {});\n",
              "          if (!dataTable) return;\n",
              "\n",
              "          const docLinkHtml = 'Like what you see? Visit the ' +\n",
              "            '<a target=\"_blank\" href=https://colab.research.google.com/notebooks/data_table.ipynb>data table notebook</a>'\n",
              "            + ' to learn more about interactive tables.';\n",
              "          element.innerHTML = '';\n",
              "          dataTable['output_type'] = 'display_data';\n",
              "          await google.colab.output.renderOutput(dataTable, element);\n",
              "          const docLink = document.createElement('div');\n",
              "          docLink.innerHTML = docLinkHtml;\n",
              "          element.appendChild(docLink);\n",
              "        }\n",
              "      </script>\n",
              "    </div>\n",
              "  </div>\n",
              "  "
            ],
            "text/plain": [
              "       pca1\n",
              "0 -0.016648\n",
              "1 -0.000924\n",
              "2 -0.000070\n",
              "3  0.000101\n",
              "4  0.000372"
            ]
          },
          "execution_count": 86,
          "metadata": {},
          "output_type": "execute_result"
        }
      ],
      "source": [
        "#PCA\n",
        "from sklearn.decomposition import PCA\n",
        "\n",
        "# create the PCA instance\n",
        "pca = PCA(n_components=1)\n",
        "X = pca.fit_transform(x)\n",
        "# x.shape\n",
        "# fit on data\n",
        "# pca.fit(X)\n",
        "# access values and vectors\n",
        "PCAs=pca.components_\n",
        "df=pd.DataFrame(PCAs)\n",
        "df_pca=df.T  # transpose the dataframe \n",
        "df_pca.columns=['pca1']\n",
        "df_pca.head()"
      ]
    },
    {
      "cell_type": "code",
      "execution_count": null,
      "metadata": {
        "colab": {
          "base_uri": "https://localhost:8080/"
        },
        "id": "lKtjXv31rKoy",
        "outputId": "94ada802-b44d-49fa-e51b-7857ffa10c86"
      },
      "outputs": [
        {
          "name": "stdout",
          "output_type": "stream",
          "text": [
            "[1007908.25197757]\n"
          ]
        },
        {
          "data": {
            "text/plain": [
              "1"
            ]
          },
          "execution_count": 87,
          "metadata": {},
          "output_type": "execute_result"
        }
      ],
      "source": [
        "#Variance explained by each component\n",
        "print(pca.explained_variance_)\n",
        "pca.n_components_"
      ]
    },
    {
      "cell_type": "code",
      "execution_count": null,
      "metadata": {
        "id": "zpQOhbRBrbWZ"
      },
      "outputs": [],
      "source": [
        "ratio_var=pca.explained_variance_/sum(pca.explained_variance_)"
      ]
    },
    {
      "cell_type": "code",
      "execution_count": null,
      "metadata": {
        "id": "rtzFjFpKtHm0"
      },
      "outputs": [],
      "source": []
    }
  ],
  "metadata": {
    "colab": {
      "provenance": []
    },
    "kernelspec": {
      "display_name": "Python 3",
      "name": "python3"
    },
    "language_info": {
      "name": "python"
    }
  },
  "nbformat": 4,
  "nbformat_minor": 0
}
